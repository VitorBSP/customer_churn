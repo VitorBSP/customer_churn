{
 "cells": [
  {
   "cell_type": "markdown",
   "id": "c690956e",
   "metadata": {},
   "source": [
    "# Objetivo"
   ]
  },
  {
   "cell_type": "markdown",
   "id": "f3224a7d",
   "metadata": {},
   "source": [
    "## Reduzir churn"
   ]
  },
  {
   "cell_type": "markdown",
   "id": "fb85a5c0",
   "metadata": {},
   "source": [
    "A empresa de telecomunicações contratou a A3Data para avaliar o cenário de\n",
    "churn elevado dos seus clientes e, uma vez que estamos falando de um produto\n",
    "com custo elevado de setup (instalação), a empresa gostaria de uma estratégia\n",
    "para reduzir esse churn."
   ]
  },
  {
   "cell_type": "markdown",
   "id": "7f2fe75c",
   "metadata": {},
   "source": [
    "# Imports iniciais"
   ]
  },
  {
   "cell_type": "code",
   "execution_count": 1,
   "id": "541dce70",
   "metadata": {},
   "outputs": [],
   "source": [
    "import pandas as pd\n",
    "import numpy as np\n",
    "from typing import Dict, Any, List\n",
    "\n",
    "from xgboost import XGBClassifier\n",
    "from sklearn.compose import ColumnTransformer\n",
    "from sklearn.pipeline import Pipeline\n",
    "from sklearn.preprocessing import OneHotEncoder, StandardScaler\n",
    "from sklearn.impute import SimpleImputer\n",
    "from sklearn.model_selection import StratifiedKFold, train_test_split\n",
    "from sklearn.linear_model import LogisticRegression\n",
    "from sklearn.ensemble import RandomForestClassifier\n",
    "from sklearn.feature_selection import RFECV\n",
    "\n",
    "from sklearn.metrics import (\n",
    "    RocCurveDisplay,\n",
    "    classification_report,\n",
    "    roc_auc_score,\n",
    "    confusion_matrix,\n",
    ")"
   ]
  },
  {
   "cell_type": "code",
   "execution_count": 2,
   "id": "b3eae4db",
   "metadata": {},
   "outputs": [],
   "source": [
    "RANDOM_STATE = 42\n",
    "TEST_SIZE = 0.25\n",
    "N_SPLITS = 5\n",
    "TOP_K_IMPORTANCES = 15\n",
    "RF_N_EST = 1000\n",
    "XGB_N_EST = 1000"
   ]
  },
  {
   "cell_type": "code",
   "execution_count": 3,
   "id": "54c9d269",
   "metadata": {},
   "outputs": [],
   "source": [
    "churn = pd.read_csv(\"data/customer_churn_verified.csv\")"
   ]
  },
  {
   "cell_type": "code",
   "execution_count": 4,
   "id": "4c779c2a",
   "metadata": {},
   "outputs": [
    {
     "data": {
      "text/html": [
       "<div>\n",
       "<style scoped>\n",
       "    .dataframe tbody tr th:only-of-type {\n",
       "        vertical-align: middle;\n",
       "    }\n",
       "\n",
       "    .dataframe tbody tr th {\n",
       "        vertical-align: top;\n",
       "    }\n",
       "\n",
       "    .dataframe thead th {\n",
       "        text-align: right;\n",
       "    }\n",
       "</style>\n",
       "<table border=\"1\" class=\"dataframe\">\n",
       "  <thead>\n",
       "    <tr style=\"text-align: right;\">\n",
       "      <th></th>\n",
       "      <th>customerID</th>\n",
       "      <th>gender</th>\n",
       "      <th>SeniorCitizen</th>\n",
       "      <th>Partner</th>\n",
       "      <th>Dependents</th>\n",
       "      <th>tenure</th>\n",
       "      <th>PhoneService</th>\n",
       "      <th>MultipleLines</th>\n",
       "      <th>InternetService</th>\n",
       "      <th>OnlineSecurity</th>\n",
       "      <th>...</th>\n",
       "      <th>PaperlessBilling</th>\n",
       "      <th>PaymentMethod</th>\n",
       "      <th>MonthlyCharges</th>\n",
       "      <th>TotalCharges</th>\n",
       "      <th>Churn</th>\n",
       "      <th>tenure_bucket</th>\n",
       "      <th>charge_quantile</th>\n",
       "      <th>addon_count</th>\n",
       "      <th>ChurnFlag</th>\n",
       "      <th>high_value_customer</th>\n",
       "    </tr>\n",
       "  </thead>\n",
       "  <tbody>\n",
       "    <tr>\n",
       "      <th>0</th>\n",
       "      <td>7569-NMZYQ</td>\n",
       "      <td>Female</td>\n",
       "      <td>0</td>\n",
       "      <td>Yes</td>\n",
       "      <td>Yes</td>\n",
       "      <td>72</td>\n",
       "      <td>Yes</td>\n",
       "      <td>Yes</td>\n",
       "      <td>Fiber optic</td>\n",
       "      <td>Yes</td>\n",
       "      <td>...</td>\n",
       "      <td>Yes</td>\n",
       "      <td>Bank transfer (automatic)</td>\n",
       "      <td>118.75</td>\n",
       "      <td>8672.45</td>\n",
       "      <td>No</td>\n",
       "      <td>61m+</td>\n",
       "      <td>Q4</td>\n",
       "      <td>6</td>\n",
       "      <td>0</td>\n",
       "      <td>1</td>\n",
       "    </tr>\n",
       "    <tr>\n",
       "      <th>1</th>\n",
       "      <td>8984-HPEMB</td>\n",
       "      <td>Female</td>\n",
       "      <td>0</td>\n",
       "      <td>No</td>\n",
       "      <td>No</td>\n",
       "      <td>71</td>\n",
       "      <td>Yes</td>\n",
       "      <td>Yes</td>\n",
       "      <td>Fiber optic</td>\n",
       "      <td>Yes</td>\n",
       "      <td>...</td>\n",
       "      <td>Yes</td>\n",
       "      <td>Electronic check</td>\n",
       "      <td>118.65</td>\n",
       "      <td>8477.60</td>\n",
       "      <td>No</td>\n",
       "      <td>61m+</td>\n",
       "      <td>Q4</td>\n",
       "      <td>6</td>\n",
       "      <td>0</td>\n",
       "      <td>1</td>\n",
       "    </tr>\n",
       "    <tr>\n",
       "      <th>2</th>\n",
       "      <td>5989-AXPUC</td>\n",
       "      <td>Female</td>\n",
       "      <td>0</td>\n",
       "      <td>Yes</td>\n",
       "      <td>No</td>\n",
       "      <td>68</td>\n",
       "      <td>Yes</td>\n",
       "      <td>Yes</td>\n",
       "      <td>Fiber optic</td>\n",
       "      <td>Yes</td>\n",
       "      <td>...</td>\n",
       "      <td>No</td>\n",
       "      <td>Mailed check</td>\n",
       "      <td>118.60</td>\n",
       "      <td>7990.05</td>\n",
       "      <td>No</td>\n",
       "      <td>61m+</td>\n",
       "      <td>Q4</td>\n",
       "      <td>6</td>\n",
       "      <td>0</td>\n",
       "      <td>1</td>\n",
       "    </tr>\n",
       "    <tr>\n",
       "      <th>3</th>\n",
       "      <td>5734-EJKXG</td>\n",
       "      <td>Female</td>\n",
       "      <td>0</td>\n",
       "      <td>No</td>\n",
       "      <td>No</td>\n",
       "      <td>61</td>\n",
       "      <td>Yes</td>\n",
       "      <td>Yes</td>\n",
       "      <td>Fiber optic</td>\n",
       "      <td>Yes</td>\n",
       "      <td>...</td>\n",
       "      <td>Yes</td>\n",
       "      <td>Electronic check</td>\n",
       "      <td>118.60</td>\n",
       "      <td>7365.70</td>\n",
       "      <td>No</td>\n",
       "      <td>61m+</td>\n",
       "      <td>Q4</td>\n",
       "      <td>6</td>\n",
       "      <td>0</td>\n",
       "      <td>1</td>\n",
       "    </tr>\n",
       "    <tr>\n",
       "      <th>4</th>\n",
       "      <td>8199-ZLLSA</td>\n",
       "      <td>Male</td>\n",
       "      <td>0</td>\n",
       "      <td>No</td>\n",
       "      <td>No</td>\n",
       "      <td>67</td>\n",
       "      <td>Yes</td>\n",
       "      <td>Yes</td>\n",
       "      <td>Fiber optic</td>\n",
       "      <td>Yes</td>\n",
       "      <td>...</td>\n",
       "      <td>Yes</td>\n",
       "      <td>Bank transfer (automatic)</td>\n",
       "      <td>118.35</td>\n",
       "      <td>7804.15</td>\n",
       "      <td>Yes</td>\n",
       "      <td>61m+</td>\n",
       "      <td>Q4</td>\n",
       "      <td>6</td>\n",
       "      <td>1</td>\n",
       "      <td>1</td>\n",
       "    </tr>\n",
       "  </tbody>\n",
       "</table>\n",
       "<p>5 rows × 26 columns</p>\n",
       "</div>"
      ],
      "text/plain": [
       "   customerID  gender  SeniorCitizen Partner Dependents  tenure PhoneService  \\\n",
       "0  7569-NMZYQ  Female              0     Yes        Yes      72          Yes   \n",
       "1  8984-HPEMB  Female              0      No         No      71          Yes   \n",
       "2  5989-AXPUC  Female              0     Yes         No      68          Yes   \n",
       "3  5734-EJKXG  Female              0      No         No      61          Yes   \n",
       "4  8199-ZLLSA    Male              0      No         No      67          Yes   \n",
       "\n",
       "  MultipleLines InternetService OnlineSecurity  ... PaperlessBilling  \\\n",
       "0           Yes     Fiber optic            Yes  ...              Yes   \n",
       "1           Yes     Fiber optic            Yes  ...              Yes   \n",
       "2           Yes     Fiber optic            Yes  ...               No   \n",
       "3           Yes     Fiber optic            Yes  ...              Yes   \n",
       "4           Yes     Fiber optic            Yes  ...              Yes   \n",
       "\n",
       "               PaymentMethod MonthlyCharges TotalCharges Churn tenure_bucket  \\\n",
       "0  Bank transfer (automatic)         118.75      8672.45    No          61m+   \n",
       "1           Electronic check         118.65      8477.60    No          61m+   \n",
       "2               Mailed check         118.60      7990.05    No          61m+   \n",
       "3           Electronic check         118.60      7365.70    No          61m+   \n",
       "4  Bank transfer (automatic)         118.35      7804.15   Yes          61m+   \n",
       "\n",
       "  charge_quantile addon_count  ChurnFlag  high_value_customer  \n",
       "0              Q4           6          0                    1  \n",
       "1              Q4           6          0                    1  \n",
       "2              Q4           6          0                    1  \n",
       "3              Q4           6          0                    1  \n",
       "4              Q4           6          1                    1  \n",
       "\n",
       "[5 rows x 26 columns]"
      ]
     },
     "execution_count": 4,
     "metadata": {},
     "output_type": "execute_result"
    }
   ],
   "source": [
    "churn.head(5)"
   ]
  },
  {
   "cell_type": "markdown",
   "id": "a3fdf923",
   "metadata": {},
   "source": [
    "# Preparação"
   ]
  },
  {
   "cell_type": "code",
   "execution_count": 5,
   "id": "62749c59",
   "metadata": {},
   "outputs": [],
   "source": [
    "num_cols = [\"MonthlyCharges\", \"addon_count\"]\n",
    "cat_cols = [\n",
    "    c\n",
    "    for c in churn.columns\n",
    "    if c\n",
    "    not in num_cols\n",
    "    + [\n",
    "        \"customerID\",\n",
    "        \"Churn\",\n",
    "        \"ChurnFlag\",\n",
    "        \"tenure_bucket\",\n",
    "        \"charge_quantile\",\n",
    "    ]\n",
    "    and churn[c].dtype == \"object\"\n",
    "]"
   ]
  },
  {
   "cell_type": "code",
   "execution_count": 6,
   "id": "91b1b18e",
   "metadata": {},
   "outputs": [],
   "source": [
    "churn[\"ChurnFlag\"] = churn[\"Churn\"].map({\"No\": 0, \"Yes\": 1})"
   ]
  },
  {
   "cell_type": "code",
   "execution_count": 7,
   "id": "b8a17d94",
   "metadata": {},
   "outputs": [],
   "source": [
    "cat_cols += [\"SeniorCitizen\"]"
   ]
  },
  {
   "cell_type": "code",
   "execution_count": 8,
   "id": "a085cfa1",
   "metadata": {},
   "outputs": [],
   "source": [
    "X = churn[num_cols + cat_cols]\n",
    "y = churn[\"ChurnFlag\"]"
   ]
  },
  {
   "cell_type": "code",
   "execution_count": 9,
   "id": "57e2a706",
   "metadata": {},
   "outputs": [
    {
     "data": {
      "text/plain": [
       "['gender',\n",
       " 'Partner',\n",
       " 'Dependents',\n",
       " 'PhoneService',\n",
       " 'MultipleLines',\n",
       " 'InternetService',\n",
       " 'OnlineSecurity',\n",
       " 'OnlineBackup',\n",
       " 'DeviceProtection',\n",
       " 'TechSupport',\n",
       " 'StreamingTV',\n",
       " 'StreamingMovies',\n",
       " 'Contract',\n",
       " 'PaperlessBilling',\n",
       " 'PaymentMethod',\n",
       " 'SeniorCitizen']"
      ]
     },
     "execution_count": 9,
     "metadata": {},
     "output_type": "execute_result"
    }
   ],
   "source": [
    "cat_cols"
   ]
  },
  {
   "cell_type": "code",
   "execution_count": 10,
   "id": "c9c86065",
   "metadata": {},
   "outputs": [],
   "source": [
    "random_number = 42"
   ]
  },
  {
   "cell_type": "code",
   "execution_count": 11,
   "id": "4d014a3b",
   "metadata": {},
   "outputs": [],
   "source": [
    "def build_preprocessor(num_cols: List[str], cat_cols: List[str]) -> ColumnTransformer:\n",
    "    \"\"\"ColumnTransformer: imputação + escala (num)  e imputa + OHE (cat).\"\"\"\n",
    "\n",
    "    numeric_pipe = Pipeline(\n",
    "        [\n",
    "            (\"impute\", SimpleImputer(strategy=\"median\")),\n",
    "            (\"scale\", StandardScaler()),\n",
    "        ]\n",
    "    )\n",
    "\n",
    "    categorical_pipe = Pipeline(\n",
    "        [\n",
    "            (\"impute\", SimpleImputer(strategy=\"most_frequent\")),\n",
    "            (\"encode\", OneHotEncoder(handle_unknown=\"ignore\")),\n",
    "        ]\n",
    "    )\n",
    "\n",
    "    preprocess = ColumnTransformer(\n",
    "        [\n",
    "            (\"num\", numeric_pipe, num_cols),\n",
    "            (\"cat\", categorical_pipe, cat_cols),\n",
    "        ]\n",
    "    )\n",
    "\n",
    "    return preprocess"
   ]
  },
  {
   "cell_type": "code",
   "execution_count": 12,
   "id": "97223f05",
   "metadata": {},
   "outputs": [],
   "source": [
    "def build_selector() -> RFECV:\n",
    "    \"\"\"\n",
    "    RFECV usando Regressão Logística L2 como estimador base.\n",
    "    Seleção guiada por AUC, avaliada em k-fold estratificado.\n",
    "    \"\"\"\n",
    "    base_estimator = LogisticRegression(\n",
    "        solver=\"liblinear\",\n",
    "        penalty=\"l2\",\n",
    "        class_weight=\"balanced\",\n",
    "        max_iter=3000,\n",
    "        random_state=RANDOM_STATE,\n",
    "    )\n",
    "    return RFECV(\n",
    "        estimator=base_estimator,\n",
    "        step=1,\n",
    "        cv=StratifiedKFold(n_splits=N_SPLITS, shuffle=True, random_state=RANDOM_STATE),\n",
    "        scoring=\"roc_auc\",\n",
    "        min_features_to_select=10,\n",
    "        n_jobs=-1,\n",
    "    )"
   ]
  },
  {
   "cell_type": "markdown",
   "id": "817bc9c1",
   "metadata": {},
   "source": [
    "# Modelagem"
   ]
  },
  {
   "cell_type": "code",
   "execution_count": 13,
   "id": "149705d7",
   "metadata": {},
   "outputs": [],
   "source": [
    "def train_model(\n",
    "    name: str,\n",
    "    estimator,\n",
    "    preprocessor: ColumnTransformer,\n",
    "    selector: RFECV,\n",
    "    X_train: pd.DataFrame,\n",
    "    X_test: pd.DataFrame,\n",
    "    y_train: pd.Series,\n",
    "    y_test: pd.Series,\n",
    ") -> Dict[str, Any]:\n",
    "    \"\"\"\n",
    "    Treina <estimator> dentro de um Pipeline, avalia no hold-out\n",
    "    e retorna métricas + importância de variáveis (quando disponível).\n",
    "\n",
    "    Parameters\n",
    "    ----------\n",
    "    name : str\n",
    "        Rótulo para o modelo (ex.: 'RandomForest').\n",
    "    estimator : scikit-learn estimator\n",
    "        Algoritmo de classificação já instanciado.\n",
    "    preprocess : ColumnTransformer\n",
    "        Transformações numéricas/categóricas.\n",
    "    X_train, X_test, y_train, y_test\n",
    "        Conjuntos de dados estratificados.\n",
    "    num_cols, cat_cols : list[str]\n",
    "        Listas originais de colunas numéricas e categóricas.\n",
    "\n",
    "    Returns\n",
    "    -------\n",
    "    dict\n",
    "        Contém métricas, previsões, nomes de features expandidas\n",
    "        e DataFrame `importance_df` ordenado (ou None).\n",
    "    \"\"\"\n",
    "\n",
    "    pipe = Pipeline([(\"prep\", preprocessor), (\"select\", selector), (\"clf\", estimator)])\n",
    "\n",
    "    pipe.fit(X_train, y_train)\n",
    "    proba = pipe.predict_proba(X_test)[:, 1]\n",
    "    pred = pipe.predict(X_test)\n",
    "\n",
    "    print(f\"\\n===== {name} =====\")\n",
    "    print(classification_report(y_test, pred, digits=3))\n",
    "    print(f\"AUC: {roc_auc_score(y_test, proba):.3f}\")\n",
    "\n",
    "    auc = roc_auc_score(y_test, proba)\n",
    "    cm = confusion_matrix(y_test, pred)\n",
    "    report = classification_report(y_test, pred, digits=3, output_dict=True)\n",
    "\n",
    "    RocCurveDisplay.from_predictions(y_test, proba).plot()\n",
    "\n",
    "    encoder = pipe.named_steps[\"prep\"].named_transformers_[\"cat\"].named_steps[\"encode\"]\n",
    "\n",
    "    cat_feats = encoder.get_feature_names_out(cat_cols).tolist()\n",
    "    numeric_feats = num_cols\n",
    "    feat_names = numeric_feats + cat_feats\n",
    "\n",
    "    mask = pipe.named_steps[\"select\"].support_\n",
    "    selected_feats = np.array(feat_names)[mask]\n",
    "\n",
    "    if hasattr(estimator, \"feature_importances_\"):\n",
    "\n",
    "        importances = estimator.feature_importances_\n",
    "        importance_df = pd.DataFrame(\n",
    "            {\"feature\": selected_feats, \"importance\": importances}\n",
    "        ).sort_values(\"importance\", ascending=False)\n",
    "\n",
    "    elif hasattr(estimator, \"coef_\"):\n",
    "        importances = np.abs(estimator.coef_).ravel()\n",
    "\n",
    "        importance_df = (\n",
    "            pd.DataFrame({\"feature\": selected_feats, \"importance\": importances})\n",
    "            .sort_values(\"importance\", ascending=False)\n",
    "            .reset_index(drop=True)\n",
    "        )\n",
    "\n",
    "    return {\n",
    "        \"name\": name,\n",
    "        \"model\": pipe,\n",
    "        \"auc\": auc,\n",
    "        \"cm\": cm,\n",
    "        \"report\": report,\n",
    "        \"feature_names\": selected_feats,\n",
    "        \"importances\": importances,\n",
    "        \"importance_df\": importance_df,\n",
    "        \"pred\": pred,\n",
    "        \"proba\": proba,\n",
    "    }"
   ]
  },
  {
   "cell_type": "code",
   "execution_count": 14,
   "id": "78a9bd6f",
   "metadata": {},
   "outputs": [],
   "source": [
    "preprocessor = build_preprocessor(num_cols, cat_cols)\n",
    "selector = build_selector()"
   ]
  },
  {
   "cell_type": "code",
   "execution_count": 15,
   "id": "f48c573b",
   "metadata": {},
   "outputs": [],
   "source": [
    "X_train, X_test, y_train, y_test = train_test_split(\n",
    "    X,\n",
    "    y,\n",
    "    test_size=TEST_SIZE,\n",
    "    random_state=RANDOM_STATE,\n",
    ")"
   ]
  },
  {
   "cell_type": "code",
   "execution_count": 16,
   "id": "63b9f2ac",
   "metadata": {},
   "outputs": [],
   "source": [
    "rl_estimator = LogisticRegression(\n",
    "    max_iter=3000, class_weight=\"balanced\", solver=\"liblinear\"\n",
    ")"
   ]
  },
  {
   "cell_type": "code",
   "execution_count": 17,
   "id": "61fc6d13",
   "metadata": {},
   "outputs": [
    {
     "name": "stdout",
     "output_type": "stream",
     "text": [
      "\n",
      "===== LogisticRegression =====\n",
      "              precision    recall  f1-score   support\n",
      "\n",
      "           0      0.903     0.707     0.793      1293\n",
      "           1      0.494     0.791     0.608       468\n",
      "\n",
      "    accuracy                          0.729      1761\n",
      "   macro avg      0.699     0.749     0.701      1761\n",
      "weighted avg      0.794     0.729     0.744      1761\n",
      "\n",
      "AUC: 0.822\n"
     ]
    },
    {
     "data": {
      "image/png": "[encoded data removed]",
      "text/plain": [
       "<Figure size 640x480 with 1 Axes>"
      ]
     },
     "metadata": {},
     "output_type": "display_data"
    },
    {
     "data": {
      "image/png": "[encoded data removed]",
      "text/plain": [
       "<Figure size 640x480 with 1 Axes>"
      ]
     },
     "metadata": {},
     "output_type": "display_data"
    }
   ],
   "source": [
    "rl_trained = train_model(\n",
    "    \"LogisticRegression\",\n",
    "    rl_estimator,\n",
    "    preprocessor,\n",
    "    selector,\n",
    "    X_train,\n",
    "    X_test,\n",
    "    y_train,\n",
    "    y_test,\n",
    ")"
   ]
  },
  {
   "cell_type": "code",
   "execution_count": 18,
   "id": "1d70c1da",
   "metadata": {},
   "outputs": [
    {
     "data": {
      "text/html": [
       "<div>\n",
       "<style scoped>\n",
       "    .dataframe tbody tr th:only-of-type {\n",
       "        vertical-align: middle;\n",
       "    }\n",
       "\n",
       "    .dataframe tbody tr th {\n",
       "        vertical-align: top;\n",
       "    }\n",
       "\n",
       "    .dataframe thead th {\n",
       "        text-align: right;\n",
       "    }\n",
       "</style>\n",
       "<table border=\"1\" class=\"dataframe\">\n",
       "  <thead>\n",
       "    <tr style=\"text-align: right;\">\n",
       "      <th></th>\n",
       "      <th>feature</th>\n",
       "      <th>importance</th>\n",
       "    </tr>\n",
       "  </thead>\n",
       "  <tbody>\n",
       "    <tr>\n",
       "      <th>0</th>\n",
       "      <td>Contract_Two year</td>\n",
       "      <td>1.161649</td>\n",
       "    </tr>\n",
       "    <tr>\n",
       "      <th>1</th>\n",
       "      <td>Contract_Month-to-month</td>\n",
       "      <td>1.157305</td>\n",
       "    </tr>\n",
       "    <tr>\n",
       "      <th>2</th>\n",
       "      <td>InternetService_DSL</td>\n",
       "      <td>0.393318</td>\n",
       "    </tr>\n",
       "    <tr>\n",
       "      <th>3</th>\n",
       "      <td>InternetService_Fiber optic</td>\n",
       "      <td>0.384094</td>\n",
       "    </tr>\n",
       "    <tr>\n",
       "      <th>4</th>\n",
       "      <td>PaymentMethod_Credit card (automatic)</td>\n",
       "      <td>0.243266</td>\n",
       "    </tr>\n",
       "    <tr>\n",
       "      <th>5</th>\n",
       "      <td>PaymentMethod_Electronic check</td>\n",
       "      <td>0.236903</td>\n",
       "    </tr>\n",
       "    <tr>\n",
       "      <th>6</th>\n",
       "      <td>PaperlessBilling_No</td>\n",
       "      <td>0.235639</td>\n",
       "    </tr>\n",
       "    <tr>\n",
       "      <th>7</th>\n",
       "      <td>OnlineSecurity_Yes</td>\n",
       "      <td>0.208278</td>\n",
       "    </tr>\n",
       "    <tr>\n",
       "      <th>8</th>\n",
       "      <td>PaymentMethod_Bank transfer (automatic)</td>\n",
       "      <td>0.204654</td>\n",
       "    </tr>\n",
       "    <tr>\n",
       "      <th>9</th>\n",
       "      <td>OnlineSecurity_No</td>\n",
       "      <td>0.199054</td>\n",
       "    </tr>\n",
       "    <tr>\n",
       "      <th>10</th>\n",
       "      <td>Partner_Yes</td>\n",
       "      <td>0.192157</td>\n",
       "    </tr>\n",
       "    <tr>\n",
       "      <th>11</th>\n",
       "      <td>TechSupport_Yes</td>\n",
       "      <td>0.185100</td>\n",
       "    </tr>\n",
       "    <tr>\n",
       "      <th>12</th>\n",
       "      <td>OnlineBackup_Yes</td>\n",
       "      <td>0.184588</td>\n",
       "    </tr>\n",
       "    <tr>\n",
       "      <th>13</th>\n",
       "      <td>PhoneService_Yes</td>\n",
       "      <td>0.180491</td>\n",
       "    </tr>\n",
       "    <tr>\n",
       "      <th>14</th>\n",
       "      <td>TechSupport_No</td>\n",
       "      <td>0.175876</td>\n",
       "    </tr>\n",
       "    <tr>\n",
       "      <th>15</th>\n",
       "      <td>OnlineBackup_No</td>\n",
       "      <td>0.175364</td>\n",
       "    </tr>\n",
       "    <tr>\n",
       "      <th>16</th>\n",
       "      <td>SeniorCitizen_0</td>\n",
       "      <td>0.171157</td>\n",
       "    </tr>\n",
       "    <tr>\n",
       "      <th>17</th>\n",
       "      <td>Contract_One year</td>\n",
       "      <td>0.148387</td>\n",
       "    </tr>\n",
       "    <tr>\n",
       "      <th>18</th>\n",
       "      <td>StreamingMovies_No internet service</td>\n",
       "      <td>0.143508</td>\n",
       "    </tr>\n",
       "    <tr>\n",
       "      <th>19</th>\n",
       "      <td>OnlineBackup_No internet service</td>\n",
       "      <td>0.143508</td>\n",
       "    </tr>\n",
       "    <tr>\n",
       "      <th>20</th>\n",
       "      <td>StreamingTV_No internet service</td>\n",
       "      <td>0.143508</td>\n",
       "    </tr>\n",
       "    <tr>\n",
       "      <th>21</th>\n",
       "      <td>OnlineSecurity_No internet service</td>\n",
       "      <td>0.143508</td>\n",
       "    </tr>\n",
       "    <tr>\n",
       "      <th>22</th>\n",
       "      <td>DeviceProtection_No internet service</td>\n",
       "      <td>0.143508</td>\n",
       "    </tr>\n",
       "    <tr>\n",
       "      <th>23</th>\n",
       "      <td>TechSupport_No internet service</td>\n",
       "      <td>0.143508</td>\n",
       "    </tr>\n",
       "    <tr>\n",
       "      <th>24</th>\n",
       "      <td>InternetService_No</td>\n",
       "      <td>0.143508</td>\n",
       "    </tr>\n",
       "    <tr>\n",
       "      <th>25</th>\n",
       "      <td>StreamingMovies_No</td>\n",
       "      <td>0.128060</td>\n",
       "    </tr>\n",
       "    <tr>\n",
       "      <th>26</th>\n",
       "      <td>StreamingMovies_Yes</td>\n",
       "      <td>0.118836</td>\n",
       "    </tr>\n",
       "    <tr>\n",
       "      <th>27</th>\n",
       "      <td>StreamingTV_No</td>\n",
       "      <td>0.115596</td>\n",
       "    </tr>\n",
       "    <tr>\n",
       "      <th>28</th>\n",
       "      <td>Dependents_Yes</td>\n",
       "      <td>0.115435</td>\n",
       "    </tr>\n",
       "    <tr>\n",
       "      <th>29</th>\n",
       "      <td>StreamingTV_Yes</td>\n",
       "      <td>0.106372</td>\n",
       "    </tr>\n",
       "    <tr>\n",
       "      <th>30</th>\n",
       "      <td>MultipleLines_Yes</td>\n",
       "      <td>0.096056</td>\n",
       "    </tr>\n",
       "    <tr>\n",
       "      <th>31</th>\n",
       "      <td>gender_Male</td>\n",
       "      <td>0.087768</td>\n",
       "    </tr>\n",
       "    <tr>\n",
       "      <th>32</th>\n",
       "      <td>MultipleLines_No</td>\n",
       "      <td>0.084435</td>\n",
       "    </tr>\n",
       "    <tr>\n",
       "      <th>33</th>\n",
       "      <td>PaperlessBilling_Yes</td>\n",
       "      <td>0.082907</td>\n",
       "    </tr>\n",
       "    <tr>\n",
       "      <th>34</th>\n",
       "      <td>DeviceProtection_Yes</td>\n",
       "      <td>0.072690</td>\n",
       "    </tr>\n",
       "    <tr>\n",
       "      <th>35</th>\n",
       "      <td>gender_Female</td>\n",
       "      <td>0.064964</td>\n",
       "    </tr>\n",
       "    <tr>\n",
       "      <th>36</th>\n",
       "      <td>DeviceProtection_No</td>\n",
       "      <td>0.063467</td>\n",
       "    </tr>\n",
       "    <tr>\n",
       "      <th>37</th>\n",
       "      <td>addon_count</td>\n",
       "      <td>0.063196</td>\n",
       "    </tr>\n",
       "    <tr>\n",
       "      <th>38</th>\n",
       "      <td>PaymentMethod_Mailed check</td>\n",
       "      <td>0.058286</td>\n",
       "    </tr>\n",
       "    <tr>\n",
       "      <th>39</th>\n",
       "      <td>Partner_No</td>\n",
       "      <td>0.039426</td>\n",
       "    </tr>\n",
       "    <tr>\n",
       "      <th>40</th>\n",
       "      <td>Dependents_No</td>\n",
       "      <td>0.037296</td>\n",
       "    </tr>\n",
       "    <tr>\n",
       "      <th>41</th>\n",
       "      <td>MultipleLines_No phone service</td>\n",
       "      <td>0.027759</td>\n",
       "    </tr>\n",
       "    <tr>\n",
       "      <th>42</th>\n",
       "      <td>PhoneService_No</td>\n",
       "      <td>0.027759</td>\n",
       "    </tr>\n",
       "  </tbody>\n",
       "</table>\n",
       "</div>"
      ],
      "text/plain": [
       "                                    feature  importance\n",
       "0                         Contract_Two year    1.161649\n",
       "1                   Contract_Month-to-month    1.157305\n",
       "2                       InternetService_DSL    0.393318\n",
       "3               InternetService_Fiber optic    0.384094\n",
       "4     PaymentMethod_Credit card (automatic)    0.243266\n",
       "5            PaymentMethod_Electronic check    0.236903\n",
       "6                       PaperlessBilling_No    0.235639\n",
       "7                        OnlineSecurity_Yes    0.208278\n",
       "8   PaymentMethod_Bank transfer (automatic)    0.204654\n",
       "9                         OnlineSecurity_No    0.199054\n",
       "10                              Partner_Yes    0.192157\n",
       "11                          TechSupport_Yes    0.185100\n",
       "12                         OnlineBackup_Yes    0.184588\n",
       "13                         PhoneService_Yes    0.180491\n",
       "14                           TechSupport_No    0.175876\n",
       "15                          OnlineBackup_No    0.175364\n",
       "16                          SeniorCitizen_0    0.171157\n",
       "17                        Contract_One year    0.148387\n",
       "18      StreamingMovies_No internet service    0.143508\n",
       "19         OnlineBackup_No internet service    0.143508\n",
       "20          StreamingTV_No internet service    0.143508\n",
       "21       OnlineSecurity_No internet service    0.143508\n",
       "22     DeviceProtection_No internet service    0.143508\n",
       "23          TechSupport_No internet service    0.143508\n",
       "24                       InternetService_No    0.143508\n",
       "25                       StreamingMovies_No    0.128060\n",
       "26                      StreamingMovies_Yes    0.118836\n",
       "27                           StreamingTV_No    0.115596\n",
       "28                           Dependents_Yes    0.115435\n",
       "29                          StreamingTV_Yes    0.106372\n",
       "30                        MultipleLines_Yes    0.096056\n",
       "31                              gender_Male    0.087768\n",
       "32                         MultipleLines_No    0.084435\n",
       "33                     PaperlessBilling_Yes    0.082907\n",
       "34                     DeviceProtection_Yes    0.072690\n",
       "35                            gender_Female    0.064964\n",
       "36                      DeviceProtection_No    0.063467\n",
       "37                              addon_count    0.063196\n",
       "38               PaymentMethod_Mailed check    0.058286\n",
       "39                               Partner_No    0.039426\n",
       "40                            Dependents_No    0.037296\n",
       "41           MultipleLines_No phone service    0.027759\n",
       "42                          PhoneService_No    0.027759"
      ]
     },
     "execution_count": 18,
     "metadata": {},
     "output_type": "execute_result"
    }
   ],
   "source": [
    "rl_trained[\"importance_df\"]"
   ]
  },
  {
   "cell_type": "code",
   "execution_count": 19,
   "id": "41edea5f",
   "metadata": {},
   "outputs": [],
   "source": [
    "rf_estimator = RandomForestClassifier(\n",
    "    n_estimators=RF_N_EST,\n",
    "    class_weight=\"balanced\",\n",
    "    random_state=RANDOM_STATE,\n",
    "    n_jobs=-1,\n",
    ")"
   ]
  },
  {
   "cell_type": "code",
   "execution_count": 20,
   "id": "886dbc4d",
   "metadata": {},
   "outputs": [
    {
     "name": "stdout",
     "output_type": "stream",
     "text": [
      "\n",
      "===== RandomForest =====\n",
      "              precision    recall  f1-score   support\n",
      "\n",
      "           0      0.822     0.842     0.832      1293\n",
      "           1      0.532     0.496     0.513       468\n",
      "\n",
      "    accuracy                          0.750      1761\n",
      "   macro avg      0.677     0.669     0.673      1761\n",
      "weighted avg      0.745     0.750     0.747      1761\n",
      "\n",
      "AUC: 0.781\n"
     ]
    },
    {
     "data": {
      "image/png": "[encoded data removed]",
      "text/plain": [
       "<Figure size 640x480 with 1 Axes>"
      ]
     },
     "metadata": {},
     "output_type": "display_data"
    },
    {
     "data": {
      "image/png": "[encoded data removed]",
      "text/plain": [
       "<Figure size 640x480 with 1 Axes>"
      ]
     },
     "metadata": {},
     "output_type": "display_data"
    }
   ],
   "source": [
    "rf_trained = train_model(\n",
    "    \"RandomForest\",\n",
    "    rf_estimator,\n",
    "    preprocessor,\n",
    "    selector,\n",
    "    X_train,\n",
    "    X_test,\n",
    "    y_train,\n",
    "    y_test,\n",
    ")"
   ]
  },
  {
   "cell_type": "code",
   "execution_count": 21,
   "id": "a6571521",
   "metadata": {},
   "outputs": [
    {
     "data": {
      "text/plain": [
       "(43, 2)"
      ]
     },
     "execution_count": 21,
     "metadata": {},
     "output_type": "execute_result"
    }
   ],
   "source": [
    "rf_trained[\"importance_df\"].shape"
   ]
  },
  {
   "cell_type": "code",
   "execution_count": 22,
   "id": "04a3d4ac",
   "metadata": {},
   "outputs": [
    {
     "data": {
      "text/html": [
       "<div>\n",
       "<style scoped>\n",
       "    .dataframe tbody tr th:only-of-type {\n",
       "        vertical-align: middle;\n",
       "    }\n",
       "\n",
       "    .dataframe tbody tr th {\n",
       "        vertical-align: top;\n",
       "    }\n",
       "\n",
       "    .dataframe thead th {\n",
       "        text-align: right;\n",
       "    }\n",
       "</style>\n",
       "<table border=\"1\" class=\"dataframe\">\n",
       "  <thead>\n",
       "    <tr style=\"text-align: right;\">\n",
       "      <th></th>\n",
       "      <th>feature</th>\n",
       "      <th>importance</th>\n",
       "    </tr>\n",
       "  </thead>\n",
       "  <tbody>\n",
       "    <tr>\n",
       "      <th>33</th>\n",
       "      <td>Contract_Month-to-month</td>\n",
       "      <td>0.100282</td>\n",
       "    </tr>\n",
       "    <tr>\n",
       "      <th>0</th>\n",
       "      <td>addon_count</td>\n",
       "      <td>0.053110</td>\n",
       "    </tr>\n",
       "    <tr>\n",
       "      <th>35</th>\n",
       "      <td>Contract_Two year</td>\n",
       "      <td>0.051292</td>\n",
       "    </tr>\n",
       "    <tr>\n",
       "      <th>24</th>\n",
       "      <td>TechSupport_No</td>\n",
       "      <td>0.045367</td>\n",
       "    </tr>\n",
       "    <tr>\n",
       "      <th>40</th>\n",
       "      <td>PaymentMethod_Electronic check</td>\n",
       "      <td>0.041726</td>\n",
       "    </tr>\n",
       "    <tr>\n",
       "      <th>15</th>\n",
       "      <td>OnlineSecurity_No</td>\n",
       "      <td>0.041280</td>\n",
       "    </tr>\n",
       "    <tr>\n",
       "      <th>42</th>\n",
       "      <td>SeniorCitizen_0</td>\n",
       "      <td>0.038623</td>\n",
       "    </tr>\n",
       "    <tr>\n",
       "      <th>13</th>\n",
       "      <td>InternetService_Fiber optic</td>\n",
       "      <td>0.033621</td>\n",
       "    </tr>\n",
       "    <tr>\n",
       "      <th>1</th>\n",
       "      <td>gender_Female</td>\n",
       "      <td>0.029665</td>\n",
       "    </tr>\n",
       "    <tr>\n",
       "      <th>2</th>\n",
       "      <td>gender_Male</td>\n",
       "      <td>0.029210</td>\n",
       "    </tr>\n",
       "    <tr>\n",
       "      <th>34</th>\n",
       "      <td>Contract_One year</td>\n",
       "      <td>0.027677</td>\n",
       "    </tr>\n",
       "    <tr>\n",
       "      <th>18</th>\n",
       "      <td>OnlineBackup_No</td>\n",
       "      <td>0.026321</td>\n",
       "    </tr>\n",
       "    <tr>\n",
       "      <th>9</th>\n",
       "      <td>MultipleLines_No</td>\n",
       "      <td>0.024996</td>\n",
       "    </tr>\n",
       "    <tr>\n",
       "      <th>11</th>\n",
       "      <td>MultipleLines_Yes</td>\n",
       "      <td>0.024729</td>\n",
       "    </tr>\n",
       "    <tr>\n",
       "      <th>39</th>\n",
       "      <td>PaymentMethod_Credit card (automatic)</td>\n",
       "      <td>0.024341</td>\n",
       "    </tr>\n",
       "    <tr>\n",
       "      <th>37</th>\n",
       "      <td>PaperlessBilling_Yes</td>\n",
       "      <td>0.024256</td>\n",
       "    </tr>\n",
       "    <tr>\n",
       "      <th>3</th>\n",
       "      <td>Partner_No</td>\n",
       "      <td>0.023803</td>\n",
       "    </tr>\n",
       "    <tr>\n",
       "      <th>38</th>\n",
       "      <td>PaymentMethod_Bank transfer (automatic)</td>\n",
       "      <td>0.023632</td>\n",
       "    </tr>\n",
       "    <tr>\n",
       "      <th>4</th>\n",
       "      <td>Partner_Yes</td>\n",
       "      <td>0.023534</td>\n",
       "    </tr>\n",
       "    <tr>\n",
       "      <th>36</th>\n",
       "      <td>PaperlessBilling_No</td>\n",
       "      <td>0.023174</td>\n",
       "    </tr>\n",
       "    <tr>\n",
       "      <th>21</th>\n",
       "      <td>DeviceProtection_No</td>\n",
       "      <td>0.022913</td>\n",
       "    </tr>\n",
       "    <tr>\n",
       "      <th>5</th>\n",
       "      <td>Dependents_No</td>\n",
       "      <td>0.020648</td>\n",
       "    </tr>\n",
       "    <tr>\n",
       "      <th>6</th>\n",
       "      <td>Dependents_Yes</td>\n",
       "      <td>0.020138</td>\n",
       "    </tr>\n",
       "    <tr>\n",
       "      <th>41</th>\n",
       "      <td>PaymentMethod_Mailed check</td>\n",
       "      <td>0.019860</td>\n",
       "    </tr>\n",
       "    <tr>\n",
       "      <th>26</th>\n",
       "      <td>TechSupport_Yes</td>\n",
       "      <td>0.018811</td>\n",
       "    </tr>\n",
       "    <tr>\n",
       "      <th>17</th>\n",
       "      <td>OnlineSecurity_Yes</td>\n",
       "      <td>0.018378</td>\n",
       "    </tr>\n",
       "    <tr>\n",
       "      <th>12</th>\n",
       "      <td>InternetService_DSL</td>\n",
       "      <td>0.016870</td>\n",
       "    </tr>\n",
       "    <tr>\n",
       "      <th>32</th>\n",
       "      <td>StreamingMovies_Yes</td>\n",
       "      <td>0.016808</td>\n",
       "    </tr>\n",
       "    <tr>\n",
       "      <th>29</th>\n",
       "      <td>StreamingTV_Yes</td>\n",
       "      <td>0.016700</td>\n",
       "    </tr>\n",
       "    <tr>\n",
       "      <th>30</th>\n",
       "      <td>StreamingMovies_No</td>\n",
       "      <td>0.016635</td>\n",
       "    </tr>\n",
       "    <tr>\n",
       "      <th>27</th>\n",
       "      <td>StreamingTV_No</td>\n",
       "      <td>0.016621</td>\n",
       "    </tr>\n",
       "    <tr>\n",
       "      <th>20</th>\n",
       "      <td>OnlineBackup_Yes</td>\n",
       "      <td>0.016529</td>\n",
       "    </tr>\n",
       "    <tr>\n",
       "      <th>23</th>\n",
       "      <td>DeviceProtection_Yes</td>\n",
       "      <td>0.016306</td>\n",
       "    </tr>\n",
       "    <tr>\n",
       "      <th>7</th>\n",
       "      <td>PhoneService_No</td>\n",
       "      <td>0.005730</td>\n",
       "    </tr>\n",
       "    <tr>\n",
       "      <th>10</th>\n",
       "      <td>MultipleLines_No phone service</td>\n",
       "      <td>0.005600</td>\n",
       "    </tr>\n",
       "    <tr>\n",
       "      <th>19</th>\n",
       "      <td>OnlineBackup_No internet service</td>\n",
       "      <td>0.005513</td>\n",
       "    </tr>\n",
       "    <tr>\n",
       "      <th>8</th>\n",
       "      <td>PhoneService_Yes</td>\n",
       "      <td>0.005512</td>\n",
       "    </tr>\n",
       "    <tr>\n",
       "      <th>22</th>\n",
       "      <td>DeviceProtection_No internet service</td>\n",
       "      <td>0.005137</td>\n",
       "    </tr>\n",
       "    <tr>\n",
       "      <th>25</th>\n",
       "      <td>TechSupport_No internet service</td>\n",
       "      <td>0.005114</td>\n",
       "    </tr>\n",
       "    <tr>\n",
       "      <th>31</th>\n",
       "      <td>StreamingMovies_No internet service</td>\n",
       "      <td>0.005096</td>\n",
       "    </tr>\n",
       "    <tr>\n",
       "      <th>16</th>\n",
       "      <td>OnlineSecurity_No internet service</td>\n",
       "      <td>0.005017</td>\n",
       "    </tr>\n",
       "    <tr>\n",
       "      <th>28</th>\n",
       "      <td>StreamingTV_No internet service</td>\n",
       "      <td>0.004758</td>\n",
       "    </tr>\n",
       "    <tr>\n",
       "      <th>14</th>\n",
       "      <td>InternetService_No</td>\n",
       "      <td>0.004667</td>\n",
       "    </tr>\n",
       "  </tbody>\n",
       "</table>\n",
       "</div>"
      ],
      "text/plain": [
       "                                    feature  importance\n",
       "33                  Contract_Month-to-month    0.100282\n",
       "0                               addon_count    0.053110\n",
       "35                        Contract_Two year    0.051292\n",
       "24                           TechSupport_No    0.045367\n",
       "40           PaymentMethod_Electronic check    0.041726\n",
       "15                        OnlineSecurity_No    0.041280\n",
       "42                          SeniorCitizen_0    0.038623\n",
       "13              InternetService_Fiber optic    0.033621\n",
       "1                             gender_Female    0.029665\n",
       "2                               gender_Male    0.029210\n",
       "34                        Contract_One year    0.027677\n",
       "18                          OnlineBackup_No    0.026321\n",
       "9                          MultipleLines_No    0.024996\n",
       "11                        MultipleLines_Yes    0.024729\n",
       "39    PaymentMethod_Credit card (automatic)    0.024341\n",
       "37                     PaperlessBilling_Yes    0.024256\n",
       "3                                Partner_No    0.023803\n",
       "38  PaymentMethod_Bank transfer (automatic)    0.023632\n",
       "4                               Partner_Yes    0.023534\n",
       "36                      PaperlessBilling_No    0.023174\n",
       "21                      DeviceProtection_No    0.022913\n",
       "5                             Dependents_No    0.020648\n",
       "6                            Dependents_Yes    0.020138\n",
       "41               PaymentMethod_Mailed check    0.019860\n",
       "26                          TechSupport_Yes    0.018811\n",
       "17                       OnlineSecurity_Yes    0.018378\n",
       "12                      InternetService_DSL    0.016870\n",
       "32                      StreamingMovies_Yes    0.016808\n",
       "29                          StreamingTV_Yes    0.016700\n",
       "30                       StreamingMovies_No    0.016635\n",
       "27                           StreamingTV_No    0.016621\n",
       "20                         OnlineBackup_Yes    0.016529\n",
       "23                     DeviceProtection_Yes    0.016306\n",
       "7                           PhoneService_No    0.005730\n",
       "10           MultipleLines_No phone service    0.005600\n",
       "19         OnlineBackup_No internet service    0.005513\n",
       "8                          PhoneService_Yes    0.005512\n",
       "22     DeviceProtection_No internet service    0.005137\n",
       "25          TechSupport_No internet service    0.005114\n",
       "31      StreamingMovies_No internet service    0.005096\n",
       "16       OnlineSecurity_No internet service    0.005017\n",
       "28          StreamingTV_No internet service    0.004758\n",
       "14                       InternetService_No    0.004667"
      ]
     },
     "execution_count": 22,
     "metadata": {},
     "output_type": "execute_result"
    }
   ],
   "source": [
    "rf_trained[\"importance_df\"]"
   ]
  },
  {
   "cell_type": "markdown",
   "id": "a14b9d15",
   "metadata": {},
   "source": [
    "No modelo preditivo as variáveis mais importantes são Contrato, Serviços Adicionais e Método de Pagamento."
   ]
  },
  {
   "cell_type": "code",
   "execution_count": 23,
   "id": "ee69d083",
   "metadata": {},
   "outputs": [],
   "source": [
    "xgb_estimator = XGBClassifier(\n",
    "    n_estimators=XGB_N_EST,\n",
    "    max_depth=5,\n",
    "    learning_rate=0.1,\n",
    "    subsample=0.8,\n",
    "    colsample_bytree=0.8,\n",
    "    scale_pos_weight=(y == 0).sum() / (y == 1).sum(),\n",
    "    eval_metric=\"logloss\",\n",
    "    random_state=RANDOM_STATE,\n",
    "    n_jobs=-1,\n",
    ")"
   ]
  },
  {
   "cell_type": "code",
   "execution_count": 24,
   "id": "799cd80c",
   "metadata": {},
   "outputs": [
    {
     "name": "stdout",
     "output_type": "stream",
     "text": [
      "\n",
      "===== XGBoost =====\n",
      "              precision    recall  f1-score   support\n",
      "\n",
      "           0      0.857     0.762     0.806      1293\n",
      "           1      0.496     0.647     0.562       468\n",
      "\n",
      "    accuracy                          0.731      1761\n",
      "   macro avg      0.676     0.705     0.684      1761\n",
      "weighted avg      0.761     0.731     0.741      1761\n",
      "\n",
      "AUC: 0.776\n"
     ]
    },
    {
     "data": {
      "image/png": "[encoded data removed]",
      "text/plain": [
       "<Figure size 640x480 with 1 Axes>"
      ]
     },
     "metadata": {},
     "output_type": "display_data"
    },
    {
     "data": {
      "image/png": "[encoded data removed]",
      "text/plain": [
       "<Figure size 640x480 with 1 Axes>"
      ]
     },
     "metadata": {},
     "output_type": "display_data"
    }
   ],
   "source": [
    "xgb_trained = train_model(\n",
    "    \"XGBoost\",\n",
    "    xgb_estimator,\n",
    "    preprocessor,\n",
    "    selector,\n",
    "    X_train,\n",
    "    X_test,\n",
    "    y_train,\n",
    "    y_test,\n",
    ")"
   ]
  },
  {
   "cell_type": "code",
   "execution_count": 25,
   "id": "71fc2f6f",
   "metadata": {},
   "outputs": [
    {
     "data": {
      "text/plain": [
       "(43, 2)"
      ]
     },
     "execution_count": 25,
     "metadata": {},
     "output_type": "execute_result"
    }
   ],
   "source": [
    "xgb_trained[\"importance_df\"].shape"
   ]
  },
  {
   "cell_type": "code",
   "execution_count": 26,
   "id": "4f11b312",
   "metadata": {},
   "outputs": [],
   "source": [
    "summary_rows = []\n",
    "models_info = [rl_trained, rf_trained, xgb_trained]\n",
    "for m in models_info:\n",
    "    prec = m[\"report\"][\"weighted avg\"][\"precision\"]\n",
    "    rec = m[\"report\"][\"weighted avg\"][\"recall\"]\n",
    "    f1 = m[\"report\"][\"weighted avg\"][\"f1-score\"]\n",
    "    summary_rows.append(\n",
    "        {\n",
    "            \"Model\": m[\"name\"],\n",
    "            \"AUC\": round(m[\"auc\"], 3),\n",
    "            \"Precision\": round(prec, 3),\n",
    "            \"Recall\": round(rec, 3),\n",
    "            \"F1\": round(f1, 3),\n",
    "        }\n",
    "    )\n",
    "summary_churn = pd.DataFrame(summary_rows)"
   ]
  },
  {
   "cell_type": "code",
   "execution_count": 27,
   "id": "a96538d0",
   "metadata": {},
   "outputs": [
    {
     "data": {
      "text/html": [
       "<div>\n",
       "<style scoped>\n",
       "    .dataframe tbody tr th:only-of-type {\n",
       "        vertical-align: middle;\n",
       "    }\n",
       "\n",
       "    .dataframe tbody tr th {\n",
       "        vertical-align: top;\n",
       "    }\n",
       "\n",
       "    .dataframe thead th {\n",
       "        text-align: right;\n",
       "    }\n",
       "</style>\n",
       "<table border=\"1\" class=\"dataframe\">\n",
       "  <thead>\n",
       "    <tr style=\"text-align: right;\">\n",
       "      <th></th>\n",
       "      <th>Model</th>\n",
       "      <th>AUC</th>\n",
       "      <th>Precision</th>\n",
       "      <th>Recall</th>\n",
       "      <th>F1</th>\n",
       "    </tr>\n",
       "  </thead>\n",
       "  <tbody>\n",
       "    <tr>\n",
       "      <th>0</th>\n",
       "      <td>LogisticRegression</td>\n",
       "      <td>0.822</td>\n",
       "      <td>0.794</td>\n",
       "      <td>0.729</td>\n",
       "      <td>0.744</td>\n",
       "    </tr>\n",
       "    <tr>\n",
       "      <th>1</th>\n",
       "      <td>RandomForest</td>\n",
       "      <td>0.781</td>\n",
       "      <td>0.745</td>\n",
       "      <td>0.750</td>\n",
       "      <td>0.747</td>\n",
       "    </tr>\n",
       "    <tr>\n",
       "      <th>2</th>\n",
       "      <td>XGBoost</td>\n",
       "      <td>0.776</td>\n",
       "      <td>0.761</td>\n",
       "      <td>0.731</td>\n",
       "      <td>0.741</td>\n",
       "    </tr>\n",
       "  </tbody>\n",
       "</table>\n",
       "</div>"
      ],
      "text/plain": [
       "                Model    AUC  Precision  Recall     F1\n",
       "0  LogisticRegression  0.822      0.794   0.729  0.744\n",
       "1        RandomForest  0.781      0.745   0.750  0.747\n",
       "2             XGBoost  0.776      0.761   0.731  0.741"
      ]
     },
     "execution_count": 27,
     "metadata": {},
     "output_type": "execute_result"
    }
   ],
   "source": [
    "summary_churn"
   ]
  },
  {
   "cell_type": "markdown",
   "id": "23b98a19",
   "metadata": {},
   "source": [
    "Seguimos com a RandomForest pois é o modelo mais equilibrado."
   ]
  },
  {
   "cell_type": "markdown",
   "id": "2d4700d0",
   "metadata": {},
   "source": [
    "# Verificando o modelo"
   ]
  },
  {
   "cell_type": "code",
   "execution_count": null,
   "id": "f9ffc54e",
   "metadata": {},
   "outputs": [],
   "source": [
    "def defined_model(\n",
    "    name: str,\n",
    "    estimator,\n",
    "    preprocessor: ColumnTransformer,\n",
    "    selector: RFECV,\n",
    "    X_train: pd.DataFrame,\n",
    "    X_test: pd.DataFrame,\n",
    "    y_train: pd.Series,\n",
    "    y_test: pd.Series,\n",
    "    X: pd.DataFrame,\n",
    "    y: pd.Series,\n",
    ") -> Dict[str, Any]:\n",
    "    \"\"\"\n",
    "    Treina <estimator> dentro de um Pipeline, avalia na base completa\n",
    "    e retorna previsões e probabilidades.\n",
    "\n",
    "    Parameters\n",
    "    ----------\n",
    "    name : str\n",
    "        Rótulo para o modelo (ex.: 'RandomForest').\n",
    "    estimator : scikit-learn estimator\n",
    "        Algoritmo de classificação já instanciado.\n",
    "    preprocess : ColumnTransformer\n",
    "        Transformações numéricas/categóricas.\n",
    "    X_train, X_test, y_train, y_test, X, y\n",
    "        Conjuntos de dados estratificados.\n",
    "    num_cols, cat_cols : list[str]\n",
    "        Listas originais de colunas numéricas e categóricas.\n",
    "\n",
    "    Returns\n",
    "    -------\n",
    "    dict\n",
    "        Contém métricas, previsões, nomes de features expandidas\n",
    "        e DataFrame `importance_df` ordenado (ou None).\n",
    "    \"\"\"\n",
    "\n",
    "    pipe = Pipeline([(\"prep\", preprocessor), (\"select\", selector), (\"clf\", estimator)])\n",
    "\n",
    "    pipe.fit(X_train, y_train)\n",
    "    proba = pipe.predict_proba(X)[:, 1]\n",
    "    pred = pipe.predict(X)\n",
    "\n",
    "    return {\n",
    "        \"name\": name,\n",
    "        \"model\": pipe,\n",
    "        \"pred\": pred,\n",
    "        \"proba\": proba,\n",
    "    }"
   ]
  },
  {
   "cell_type": "code",
   "execution_count": 30,
   "id": "8416f0f1",
   "metadata": {},
   "outputs": [],
   "source": [
    "rf_defined = defined_model(\n",
    "    \"RandomForest\",\n",
    "    rf_estimator,\n",
    "    preprocessor,\n",
    "    selector,\n",
    "    X_train,\n",
    "    X_test,\n",
    "    y_train,\n",
    "    y_test,\n",
    "    X,\n",
    "    y,\n",
    ")"
   ]
  },
  {
   "cell_type": "code",
   "execution_count": 31,
   "id": "e058bb0d",
   "metadata": {},
   "outputs": [
    {
     "data": {
      "text/plain": [
       "(7043, 26)"
      ]
     },
     "execution_count": 31,
     "metadata": {},
     "output_type": "execute_result"
    }
   ],
   "source": [
    "churn.shape"
   ]
  },
  {
   "cell_type": "code",
   "execution_count": 32,
   "id": "744b742f",
   "metadata": {},
   "outputs": [
    {
     "data": {
      "text/plain": [
       "(7043,)"
      ]
     },
     "execution_count": 32,
     "metadata": {},
     "output_type": "execute_result"
    }
   ],
   "source": [
    "rf_defined[\"proba\"].shape"
   ]
  },
  {
   "cell_type": "code",
   "execution_count": 33,
   "id": "a5a9424a",
   "metadata": {},
   "outputs": [],
   "source": [
    "proba_rf = pd.Series(rf_defined[\"proba\"], index=X.index, name=\"proba_rf\")\n",
    "\n",
    "churn[\"proba_rf\"] = proba_rf"
   ]
  },
  {
   "cell_type": "code",
   "execution_count": 34,
   "id": "cd82a7c0",
   "metadata": {},
   "outputs": [
    {
     "data": {
      "text/html": [
       "<div>\n",
       "<style scoped>\n",
       "    .dataframe tbody tr th:only-of-type {\n",
       "        vertical-align: middle;\n",
       "    }\n",
       "\n",
       "    .dataframe tbody tr th {\n",
       "        vertical-align: top;\n",
       "    }\n",
       "\n",
       "    .dataframe thead th {\n",
       "        text-align: right;\n",
       "    }\n",
       "</style>\n",
       "<table border=\"1\" class=\"dataframe\">\n",
       "  <thead>\n",
       "    <tr style=\"text-align: right;\">\n",
       "      <th></th>\n",
       "      <th>proba_rf</th>\n",
       "    </tr>\n",
       "    <tr>\n",
       "      <th>ChurnFlag</th>\n",
       "      <th></th>\n",
       "    </tr>\n",
       "  </thead>\n",
       "  <tbody>\n",
       "    <tr>\n",
       "      <th>0</th>\n",
       "      <td>0.154</td>\n",
       "    </tr>\n",
       "    <tr>\n",
       "      <th>1</th>\n",
       "      <td>0.701</td>\n",
       "    </tr>\n",
       "  </tbody>\n",
       "</table>\n",
       "</div>"
      ],
      "text/plain": [
       "           proba_rf\n",
       "ChurnFlag          \n",
       "0             0.154\n",
       "1             0.701"
      ]
     },
     "execution_count": 34,
     "metadata": {},
     "output_type": "execute_result"
    }
   ],
   "source": [
    "churn.groupby(\"ChurnFlag\").agg({\"proba_rf\": \"mean\"}).round(3)"
   ]
  },
  {
   "cell_type": "markdown",
   "id": "7b5d5f5c",
   "metadata": {},
   "source": [
    "Modelo com boas medidas, quem realmente teve Churn tem maior probabilidade de churn."
   ]
  },
  {
   "cell_type": "code",
   "execution_count": 35,
   "id": "4a6d3130",
   "metadata": {},
   "outputs": [],
   "source": [
    "proba_bins = [0, 0.3, 0.5, 0.70, 1]\n",
    "proba_labels = [\n",
    "    \"Baixa prob.\",\n",
    "    \"Média baixa prob\",\n",
    "    \"Média alta prob.\",\n",
    "    \"Alta prob.\",\n",
    "]\n",
    "churn[\"proba_bucket\"] = pd.cut(churn[\"proba_rf\"], bins=proba_bins, labels=proba_labels)"
   ]
  },
  {
   "cell_type": "code",
   "execution_count": 36,
   "id": "e7f12769",
   "metadata": {},
   "outputs": [
    {
     "name": "stderr",
     "output_type": "stream",
     "text": [
      "C:\\Users\\user\\AppData\\Local\\Temp\\ipykernel_2736\\1843096876.py:1: FutureWarning: The default of observed=False is deprecated and will be changed to True in a future version of pandas. Pass observed=False to retain current behavior or observed=True to adopt the future default and silence this warning.\n",
      "  churn.groupby(['proba_bucket', 'ChurnFlag']).size()\n"
     ]
    },
    {
     "data": {
      "text/plain": [
       "proba_bucket      ChurnFlag\n",
       "Baixa prob.       0            3407\n",
       "                  1             152\n",
       "Média baixa prob  0             394\n",
       "                  1             167\n",
       "Média alta prob.  0             318\n",
       "                  1             398\n",
       "Alta prob.        0             228\n",
       "                  1            1151\n",
       "dtype: int64"
      ]
     },
     "execution_count": 36,
     "metadata": {},
     "output_type": "execute_result"
    }
   ],
   "source": [
    "churn.groupby([\"proba_bucket\", \"ChurnFlag\"]).size()"
   ]
  },
  {
   "cell_type": "markdown",
   "id": "c9ac1bef",
   "metadata": {},
   "source": [
    "Churn por probabilidade de Churn."
   ]
  },
  {
   "cell_type": "code",
   "execution_count": 37,
   "id": "8c135465",
   "metadata": {},
   "outputs": [
    {
     "name": "stderr",
     "output_type": "stream",
     "text": [
      "C:\\Users\\user\\AppData\\Local\\Temp\\ipykernel_2736\\4080623575.py:1: FutureWarning: The default of observed=False is deprecated and will be changed to True in a future version of pandas. Pass observed=False to retain current behavior or observed=True to adopt the future default and silence this warning.\n",
      "  churn.groupby('proba_bucket').agg({'ChurnFlag': 'mean'}).round(3)\n"
     ]
    },
    {
     "data": {
      "text/html": [
       "<div>\n",
       "<style scoped>\n",
       "    .dataframe tbody tr th:only-of-type {\n",
       "        vertical-align: middle;\n",
       "    }\n",
       "\n",
       "    .dataframe tbody tr th {\n",
       "        vertical-align: top;\n",
       "    }\n",
       "\n",
       "    .dataframe thead th {\n",
       "        text-align: right;\n",
       "    }\n",
       "</style>\n",
       "<table border=\"1\" class=\"dataframe\">\n",
       "  <thead>\n",
       "    <tr style=\"text-align: right;\">\n",
       "      <th></th>\n",
       "      <th>ChurnFlag</th>\n",
       "    </tr>\n",
       "    <tr>\n",
       "      <th>proba_bucket</th>\n",
       "      <th></th>\n",
       "    </tr>\n",
       "  </thead>\n",
       "  <tbody>\n",
       "    <tr>\n",
       "      <th>Baixa prob.</th>\n",
       "      <td>0.043</td>\n",
       "    </tr>\n",
       "    <tr>\n",
       "      <th>Média baixa prob</th>\n",
       "      <td>0.298</td>\n",
       "    </tr>\n",
       "    <tr>\n",
       "      <th>Média alta prob.</th>\n",
       "      <td>0.556</td>\n",
       "    </tr>\n",
       "    <tr>\n",
       "      <th>Alta prob.</th>\n",
       "      <td>0.835</td>\n",
       "    </tr>\n",
       "  </tbody>\n",
       "</table>\n",
       "</div>"
      ],
      "text/plain": [
       "                  ChurnFlag\n",
       "proba_bucket               \n",
       "Baixa prob.           0.043\n",
       "Média baixa prob      0.298\n",
       "Média alta prob.      0.556\n",
       "Alta prob.            0.835"
      ]
     },
     "execution_count": 37,
     "metadata": {},
     "output_type": "execute_result"
    }
   ],
   "source": [
    "churn.groupby(\"proba_bucket\").agg({\"ChurnFlag\": \"mean\"}).round(3)"
   ]
  },
  {
   "cell_type": "markdown",
   "id": "ffbe098f",
   "metadata": {},
   "source": [
    "## Impacto do Churn antes do BreakEven"
   ]
  },
  {
   "cell_type": "markdown",
   "id": "927710ff",
   "metadata": {},
   "source": [
    "Assumimos que o custo do setup pode variar de 3 vezes a média da fatura mensal até 12 vezes."
   ]
  },
  {
   "cell_type": "code",
   "execution_count": 38,
   "id": "3f9d0295",
   "metadata": {},
   "outputs": [],
   "source": [
    "avg_monthly = churn[\"MonthlyCharges\"].mean()\n",
    "scenarios = {\"3x\": 3 * avg_monthly, \"6x\": 6 * avg_monthly, \"12x\": 12 * avg_monthly}"
   ]
  },
  {
   "cell_type": "code",
   "execution_count": 39,
   "id": "d2fa8cd6",
   "metadata": {},
   "outputs": [],
   "source": [
    "for scenario, value in scenarios.items():\n",
    "    churn[f\"perda_{scenario}\"] = churn[\"TotalCharges\"] - value"
   ]
  },
  {
   "cell_type": "markdown",
   "id": "03ffd3ab",
   "metadata": {},
   "source": [
    "### Perdas"
   ]
  },
  {
   "cell_type": "markdown",
   "id": "578dd05b",
   "metadata": {},
   "source": [
    "Total de perdas com Churn antes do Breakeven (por causa do alto custo de Setup)."
   ]
  },
  {
   "cell_type": "code",
   "execution_count": 40,
   "id": "03b3ebc0",
   "metadata": {},
   "outputs": [
    {
     "data": {
      "text/plain": [
       "np.float64(-131601.8054593213)"
      ]
     },
     "execution_count": 40,
     "metadata": {},
     "output_type": "execute_result"
    }
   ],
   "source": [
    "churn[churn[\"perda_3x\"] < 0][\"perda_3x\"].sum()"
   ]
  },
  {
   "cell_type": "code",
   "execution_count": 41,
   "id": "b30aad2a",
   "metadata": {},
   "outputs": [
    {
     "data": {
      "text/plain": [
       "np.float64(-418640.589443419)"
      ]
     },
     "execution_count": 41,
     "metadata": {},
     "output_type": "execute_result"
    }
   ],
   "source": [
    "churn[churn[\"perda_6x\"] < 0][\"perda_6x\"].sum()"
   ]
  },
  {
   "cell_type": "code",
   "execution_count": 42,
   "id": "6183c53a",
   "metadata": {},
   "outputs": [
    {
     "data": {
      "text/plain": [
       "np.float64(-1259713.6718656821)"
      ]
     },
     "execution_count": 42,
     "metadata": {},
     "output_type": "execute_result"
    }
   ],
   "source": [
    "churn[churn[\"perda_12x\"] < 0][\"perda_12x\"].sum()"
   ]
  },
  {
   "cell_type": "code",
   "execution_count": 1,
   "id": "89911905",
   "metadata": {},
   "outputs": [
    {
     "data": {
      "text/plain": [
       "0.3124807563422384"
      ]
     },
     "execution_count": 1,
     "metadata": {},
     "output_type": "execute_result"
    }
   ],
   "source": [
    "1 - (-90478.77 / -131601.80)"
   ]
  },
  {
   "cell_type": "markdown",
   "id": "4f609d73",
   "metadata": {},
   "source": [
    "### Perdas Evitadas"
   ]
  },
  {
   "cell_type": "markdown",
   "id": "ef9d015b",
   "metadata": {},
   "source": [
    "Perdas que poderiam ser evitadas utilizando o modelo de propensão a Churn. \n",
    "\n",
    "Assim podendo ser tomadas decisões para simplificar o setup, mudar questões contratuais, oferecer mais serviços ou até mesmo não realizar o setup."
   ]
  },
  {
   "cell_type": "code",
   "execution_count": 43,
   "id": "bc91b90c",
   "metadata": {},
   "outputs": [
    {
     "data": {
      "text/plain": [
       "np.float64(-90478.77528042028)"
      ]
     },
     "execution_count": 43,
     "metadata": {},
     "output_type": "execute_result"
    }
   ],
   "source": [
    "churn[(churn[\"perda_3x\"] < 0) & (churn[\"proba_bucket\"] != \"Alta prob.\")][\n",
    "    \"perda_3x\"\n",
    "].sum()"
   ]
  },
  {
   "cell_type": "code",
   "execution_count": 44,
   "id": "aed4a2cb",
   "metadata": {},
   "outputs": [
    {
     "data": {
      "text/plain": [
       "np.float64(-284444.6841686781)"
      ]
     },
     "execution_count": 44,
     "metadata": {},
     "output_type": "execute_result"
    }
   ],
   "source": [
    "churn[(churn[\"perda_6x\"] < 0) & (churn[\"proba_bucket\"] != \"Alta prob.\")][\n",
    "    \"perda_6x\"\n",
    "].sum()"
   ]
  },
  {
   "cell_type": "code",
   "execution_count": 45,
   "id": "496a3dd2",
   "metadata": {},
   "outputs": [
    {
     "data": {
      "text/plain": [
       "np.float64(-873933.2862203605)"
      ]
     },
     "execution_count": 45,
     "metadata": {},
     "output_type": "execute_result"
    }
   ],
   "source": [
    "churn[(churn[\"perda_12x\"] < 0) & (churn[\"proba_bucket\"] != \"Alta prob.\")][\n",
    "    \"perda_12x\"\n",
    "].sum()"
   ]
  }
 ],
 "metadata": {
  "kernelspec": {
   "display_name": "venv",
   "language": "python",
   "name": "python3"
  },
  "language_info": {
   "codemirror_mode": {
    "name": "ipython",
    "version": 3
   },
   "file_extension": ".py",
   "mimetype": "text/x-python",
   "name": "python",
   "nbconvert_exporter": "python",
   "pygments_lexer": "ipython3",
   "version": "3.13.5"
  }
 },
 "nbformat": 4,
 "nbformat_minor": 5
}
